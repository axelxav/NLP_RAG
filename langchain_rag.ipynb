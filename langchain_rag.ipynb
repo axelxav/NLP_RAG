{
 "cells": [
  {
   "cell_type": "markdown",
   "metadata": {},
   "source": [
    "# Loading The Knowledge"
   ]
  },
  {
   "cell_type": "code",
   "execution_count": 1,
   "metadata": {},
   "outputs": [],
   "source": [
    "#pip install --q unstructured langchain\n",
    "#pip install \"unstructured[all-docs]\""
   ]
  },
  {
   "cell_type": "code",
   "execution_count": 2,
   "metadata": {},
   "outputs": [],
   "source": [
    "from langchain_community.document_loaders import UnstructuredPDFLoader, OnlinePDFLoader"
   ]
  },
  {
   "cell_type": "code",
   "execution_count": 3,
   "metadata": {},
   "outputs": [
    {
     "name": "stderr",
     "output_type": "stream",
     "text": [
      "/media/axel/SATA/cobaPython/NLP_RAG/env/lib/python3.9/site-packages/tqdm/auto.py:21: TqdmWarning: IProgress not found. Please update jupyter and ipywidgets. See https://ipywidgets.readthedocs.io/en/stable/user_install.html\n",
      "  from .autonotebook import tqdm as notebook_tqdm\n"
     ]
    }
   ],
   "source": [
    "local_path = \"/media/axel/SATA/cobaPython/NLP_RAG/data/billiards_tutorial.pdf\"\n",
    "\n",
    "if local_path:\n",
    "    loader = UnstructuredPDFLoader(file_path=local_path)\n",
    "    data = loader.load()\n",
    "else:\n",
    "    print(\"No local path provided\")"
   ]
  },
  {
   "cell_type": "code",
   "execution_count": 4,
   "metadata": {},
   "outputs": [
    {
     "data": {
      "text/plain": [
       "'About the Tutorial\\n\\nBilliards is a game that can be compared to the game of carom. In this game cue is used as a striker and balls are to be put into the pockets. The tutorial lets you know about the game, its rules, and the method of playing.\\n\\nAudience\\n\\nAnyone who wants to learn about billiards can go through this tutorial, as this tutorial deals with various aspects of the game and will give a lot of information regarding the game.\\n\\nPrerequisite\\n\\nBefore proceeding with this tutorial, you are required to have a passion for this game and an eagerness to acquire knowledge on the same.\\n\\nCopyright & Disclaimer\\n\\n\\uf0e3 Copyright 2016 by Tutorials Point (I) Pvt. Ltd.\\n\\nAll the content and graphics published in this e-book are the property of Tutorials Point (I) Pvt. Ltd. The user of this e-book is prohibited to reuse, retain, copy, distribute, or republish any contents or a part of contents of this e-book in any manner without written consent of the publisher.\\n\\nWe strive to update the contents of our website and tutorials as timely and as precisely as possible, however, the contents may contain inaccuracies or errors. Tutorials Point (I) Pvt. Ltd. provides no guarantee regarding the accuracy, timeliness, or completeness of our website or its contents including this tutorial. If you discover any errors on our website or in this tutorial, please notify us at contact@tutorialspoint.com\\n\\nBilliards\\n\\ni\\n\\nTable of Contents\\n\\nAbout the Tutorial .................................................................................................................................... i\\n\\nAudience .................................................................................................................................................. i\\n\\nPrerequisite.............................................................................................................................................. i\\n\\nCopyright & Disclaimer ............................................................................................................................. i\\n\\nTable of Contents .................................................................................................................................... ii\\n\\n1. BILLIARDS – OVERVIEW ....................................................................................................... 1\\n\\n2. BILLIARDS – PARTICIPATING COUNTRIES ............................................................................. 2\\n\\n3. BILLIARDS – PLAYING ENVIRONMENT .................................................................................. 4\\n\\n4. BILLIARDS – EQUIPMENT ..................................................................................................... 5\\n\\n5. BILLIARDS – TERMS ............................................................................................................. 7\\n\\n6. BILLIARDS – HOW TO PLAY? .............................................................................................. 10\\n\\nStarting the Game ................................................................................................................................. 10\\n\\nPlaying from in-hand ............................................................................................................................. 10\\n\\nSpotting Object Balls ............................................................................................................................. 11\\n\\nLimitations of Cannons .......................................................................................................................... 11\\n\\nLimitations to Hazards ........................................................................................................................... 11\\n\\nBall on Edge of a Pocket ........................................................................................................................ 11\\n\\nBall Moved by other than Striker .......................................................................................................... 12\\n\\nTouching Ball ......................................................................................................................................... 12\\n\\nFouls ..................................................................................................................................................... 12\\n\\nOutcomes of a Foul ............................................................................................................................... 13\\n\\nBilliards – Variants ................................................................................................................................ 13\\n\\n7. BILLIARDS – TOURNAMENTS ............................................................................................. 15\\n\\n8. BILLIARDS – CHAMPION OF CHAMPIONS .......................................................................... 16\\n\\nBilliards\\n\\nii\\n\\n1. Billiards – Overview\\n\\nBilliards is a cue sport that has its origins in UK. It is played on a board with six pockets. The balls are cannoned into the pockets with a cue stick.\\n\\nBilliards was introduced as a game in 18th century. It was popular in some European countries especially, France, that brought first changes to the game by including a red ball. This was soon adopted in United Kingdom too. By end of 19th century, English Billiards Association was formed. Later, Billiards Association and Control Council were organized by mid-20th century.\\n\\nJohn Roberts, Sr. was the first champion known to public and he reigned for nearly two decades.\\n\\nObjective\\n\\nAll the red balls are arranged in a formation. It is broken with a stroke using cue stick. The players cannon the balls into the pockets. The player who pockets black ball in the end and ends with highest score is declared winner. The game is played as a team and individuals.\\n\\nTeam Size\\n\\nBilliards is an indoor sport played on a board. As a professional sport, Billiards is either played individually or by a team of two; representing a nation. Otherwise, the sport is played by more than two in a team for fun in clubs.\\n\\nBilliards\\n\\n1\\n\\n2. Billiards – Participating Countries\\n\\nBilliards\\n\\nAsian Countries Participating in Billiards\\n\\nThough a little late, Asian countries picked up the game fast and produced some world champion players. India, Malaysia, Indonesia, Japan, Thailand, and Chinese Taipei are a few from the list of 33-member countries that play professional English Billiards. Below is a table of all the 33 nations.\\n\\nAsian Confederation of Billiard Sports was formed to organize all the Billiard and Snooker events across Asia.\\n\\nAfghanistan\\n\\nIndia\\n\\nThailand\\n\\nSri Lanka\\n\\nBahrain\\n\\nIndonesia\\n\\nLebanon\\n\\nSyria\\n\\nBangladesh\\n\\nIran\\n\\nMongolia\\n\\nUAE\\n\\nBrunei\\n\\nIraq\\n\\nMyanmar\\n\\nVietnam\\n\\nSingapore\\n\\nJapan\\n\\nNepal\\n\\nYemen\\n\\nChina-Hong Kong\\n\\nJordan\\n\\nPakistan\\n\\nMalaysia\\n\\nChina-Macau\\n\\nSouth Korea\\n\\nPalestine\\n\\nChina\\n\\nSaudi Arabia\\n\\nPhilippines\\n\\nChinese Taipei\\n\\nKuwait\\n\\nQatar\\n\\nNon-Asian Countries Participating in Billiards\\n\\nAs the game took birth in United Kingdom, European and South American countries played this sport since. France introduced a separate table for the game and gradually, Billiards on French Table came into limelight. We will discuss the differences of English and French Tables later in this tutorial. Here is another table with list of Non-Asian countries participating in Billiards.\\n\\nEgypt\\n\\nCanada\\n\\nAlbania\\n\\nGermany\\n\\nLesotho\\n\\nUnited States\\n\\nAustria\\n\\nGreat Britain (UK)\\n\\nLibya\\n\\nArgentina\\n\\nBelarus\\n\\nGreece\\n\\nMalawi\\n\\nAruba\\n\\nBelgium\\n\\nHungary\\n\\n2\\n\\nMauritius\\n\\nMorocco\\n\\nNamibia\\n\\nNigeria\\n\\nReunion\\n\\nSouth Africa\\n\\nSwaziland\\n\\nTanzania\\n\\nUganda\\n\\nZambia\\n\\nBolivia\\n\\nBrazil\\n\\nChile\\n\\nColombia\\n\\nCosta Rica\\n\\nEcuador\\n\\nHonduras\\n\\nMexico\\n\\nNetherlands Antilles\\n\\nNicaragua\\n\\nPanama\\n\\nPeru\\n\\nPuerto Rico\\n\\nUruguay\\n\\nVenezuela\\n\\nBosnia and Herzegovina\\n\\nBulgaria\\n\\nCroatia\\n\\nCyprus\\n\\nCzech Republic\\n\\nDenmark\\n\\nEstonia\\n\\nFinland\\n\\nFrance\\n\\nNorway\\n\\nPoland\\n\\nPortugal\\n\\nRussia\\n\\nSerbia\\n\\nSlovakia\\n\\nSlovenia\\n\\nSpain\\n\\nSweden\\n\\nSwitzerland\\n\\nTurkey\\n\\nUkraine\\n\\nBilliards\\n\\nIreland\\n\\nIsrael\\n\\nItaly\\n\\nLiechtenstein\\n\\nLuxembourg\\n\\nMacedonia\\n\\nMontenegro\\n\\nNetherlands\\n\\nNorth Cyprus\\n\\n3\\n\\n3. Billiards – Playing Environment\\n\\nBilliards Board Design\\n\\nBilliards is played on board that is riveted to a table. Unlike Carom or any other board game, this is the only game where the board is part of the table. The Billiards board is huge than any other boards. Similar to Carom board, Billiards board also has four pockets in the corner and two on the side bars. The playing surface of the board is top quality cloth material that is fixed firmly to the board. Such a surface helps the balls to roll easily around the board and pocket them.\\n\\nDimensions of the Board\\n\\nThe playing surface measures 11ft 81/2 in x 5ft 10in x 2ft 101/2 in. At a distance of 29in from the bottom cushion, a parallel line is drawn called baulk line.\\n\\nAnother mandatory marking on the board is ‘D’. It is drawn with mid-point of baulk line as centre. The radius of the D is 111/2 in.\\n\\nIncluding the centre of the D, there are four more spots on the playing surface. One spot is called pyramid spot that is exactly mid-way between centre spot and face of top cushion. The third point is perpendicular to the face of cushion. It is 123/4 in thickness. The fourth spot is centre spot that is mid-way between both sides of the cushion.\\n\\nThe pockets in the corner and middle of longest sides comply with the standards of World Professional Billiards and Snooker Association (WPBSA).\\n\\nBilliards\\n\\n4\\n\\n4. Billiards – Equipment\\n\\nThe Billiards table was covered in earlier chapter hence, the remaining playing equipment will be covered in this chapter.\\n\\nBalls\\n\\nThe balls used for Billiards should fulfil requirements of WPBSA in shape, size, and material used for manufacture. Each ball should have 52.5 mm diameter with very minimum tolerance. These balls are sets to be placed in specific positions on the table and each set differs from other.\\n\\nThe set of balls are either colored red, spotted white and clear white. Alternately, they can also colored red, white, and yellow. All the balls should be of same weight and any change of ball during the game is done based on mutual consent between players or it is referee’s decision.\\n\\nCue\\n\\nThe length of a cue should not be less than 3ft. The cue should be of regular shape and form as per WPBSA standards and should not deviate in any way.\\n\\nBilliards\\n\\n5\\n\\nAncillary\\n\\nAt times the cue moves in to a tough position to play it straight with cue and requires a subsidiary or assist to play. These could be cues longer than usual, also called as half butts or butts based on their length. All these aids taken by players should be of approved shape, length, and all other standards set by WPBSA.\\n\\nBilliards\\n\\n6\\n\\n5. Billiards – Terms\\n\\nGame – It is the period of play from when the striker breaks the formation of balls and either:\\n\\nFinishes the game in concession\\n\\nTotal time of the game has elapsed\\n\\nEither side scoring the required number of points\\n\\nClose of play called by referee\\n\\nMatch – A match comprises of stipulated number of games.\\n\\nBalls – A striker uses the cue ball to pocket object balls like red, yellow balls.\\n\\nStringing – Stringing is a way of deciding which player first gets options to strike. It is similar to toss in any other match. In Billiards, both players play the cue ball towards the opposite cushion and ensure it comes back to baulk cushion. Whosoever manages to keep the ball closer to the baulk cushion shall give options to opponents. The strikers have to ensure that cue doesn’t hit side cushions or intrude into opponent’s half.\\n\\nStriker and turn – The person who breaks the formation of balls at the start or someone in play is called striker. If the striker commits a foul or finishes his turn then, opposite player gets to play out of turn. The referee should be satisfied that striker has finished the turn and moves away from the table for opponent to play.\\n\\nStroke – Striker hits cue-ball with tip of cue in alignment and ensures to apply rules of the game then, it is called a stroke. A stroke is complete after:\\n\\nAll the balls in motion have to come to halt.\\n\\nA striker moves away from the table or stands in readiness to play next stroke.\\n\\nMove out any equipment of the game from hazardous position.\\n\\nThe umpire or referee gives a score for the stroke.\\n\\nDirect stroke – Striker hits the object-ball with cue-ball directly without hitting cushion of the table.\\n\\nIndirect stroke – Striker hits the cue-ball to cushion for an angle and hit the object-ball is called indirect stroke.\\n\\nPot – Striker hits the object ball with cue-ball giving it direction into a pocket. The object ball falling in pocket when it comes in contact with cue-ball or another object ball is called a pot.\\n\\nBilliards\\n\\n7\\n\\nIn-off – In-off is a condition where the cue-ball hits object ball and goes into a pocket without violation of rules. If the cue-ball contacts more than one object ball then, it is said to have gone in-off of the first object ball contacted.\\n\\nHazard – A scoring stroke excluding cannon like a pot, an in-off, a pot and an in-off, etc. are all hazards.\\n\\nCannon – A stroke where the cue-ball makes contact with two object balls. Only one cannon can be scored in a single stroke.\\n\\nBreak – In a single turn, break is the number of scoring strokes made in succession.\\n\\nIn-hand – The instances when it is called player’s ball in-hand are:\\n\\nBefore the start of each game\\n\\nWhen a ball forced out of the table\\n\\nAfter a player’s ball is spotted touching the non-striker’s ball\\n\\nWhen a player’s ball has entered the pocket\\n\\nUntil the stroke is played fairly, the player’s in-hand stays active. The other two situations when it remains player’s ball in-hand are:\\n\\nA foul is committed whilst it is on the table and the other is when the striker makes a foul and loses points while passing the turn to next player.\\n\\nIf the cue-ball is in-hand, then the striker is in-hand.\\n\\nBall in Play – A ball is in play until it is in neither pocketed nor in-hand. It should also be not forced off the table.\\n\\nBall in Baulk – A ball is said to be in baulk when it is located centrally on the baulk-line or in the region between bottom cushion and baulk-line.\\n\\nForced off the table – A ball is forced off the table when it comes to rest outside the playing surface or has been picked by the striker when in play.\\n\\nMiss – A striker misses to make contact with object ball using the cue-ball while the other object balls are on the baulk-line.\\n\\nRunning a coup – A striker pockets the cue-ball when no ball is outside the baulk-line. The cue-ball should also not contact the cushion but enter pocket directly.\\n\\nFoul – Any violation of WPBSA rules is considered as foul.\\n\\nSpot Occupied – A ball in-hand is not placed in its original position because some other ball is occupying the spot or is too close to be placed as without touching it.\\n\\nBilliards\\n\\n8\\n\\nPush Stroke – Push stroke can called in two occasions:\\n\\nWhen the striker hits the cue-ball and the cue is in contact while cue-ball is in motion.\\n\\nThe cue is still in contact as the cue-ball makes contact with object ball except when it just grazes the ball.\\n\\nJump Shot – The striker should ensure that cue-ball jumps over an object ball and strikes the intended ball without contacting the cushion with the exception of following cases:\\n\\nThe cue-ball strikes an object ball and then jumps over other ball.\\n\\nThe cue-ball jumps and strikes an object-ball but not on the farther side of it.\\n\\nThe cue-ball strikes an object ball as per rules and jumps over it to hit the cushion of the board.\\n\\nBilliards\\n\\n9\\n\\n6. Billiards – How to Play?\\n\\nEnglish Billiards is played between two people or two sides. Understanding the arrangement of balls on the board is important before how to play. Three balls are used; a white, a yellow or spotted white (with more than two black dots for identification), and a red. Player or team scores when striker pots the ball in the pocket, for in-offs, cannon, and combination of both.\\n\\nThe points from a penalty made by a player are given to opponent player. One of the most popular tactics used to score more points is to leave the object balls in baulk area when the next player is in-hand. Any means made to disturb the balls must be by an indirect stroke, a difficult one.\\n\\nThe winner of the game is declared based on player who scores maximum points or stipulated points of the game within the allotted time.\\n\\nThe winner of the match is decided on the highest average and total number of points.\\n\\nStarting the Game\\n\\nMost sports begin with a toss to decide who plays first. Stringing is the method of toss in Billiards.\\n\\nThe choice of cue-ball and who to play first is decided by stringing. The winner has both options provided opposite player also mutually agrees. The game is considered to have begun after the cue-ball is placed on the table and hit by tip of the cue.\\n\\nIt is the player’s responsibility to play with correct cue-ball even if the wrong ball is passed by the referee. The players take turns alternately unless one makes a score and continues the strike.\\n\\nPlaying from in-hand\\n\\nThe cue-ball must be struck from a position within “D” to play from in-hand\\n\\nThe referee has to check whether the cue-ball is placed correctly, if asked.\\n\\nThe cue-ball is not considered to be in play by the referee if the tip of the cue is not touching the cue-ball; provided attempt to play is not made.\\n\\nWhen in-hand, the cue-ball must be placed out of baulk. In case, it touches an object ball out of baulk, it is considered to have played out though it doesn’t cross the baulk line.\\n\\nThe cue-ball may be played against a cushion provided it touches a ball outside baulk. Before re-entering the baulk, the cue-ball must have contact with cushion or ball out of baulk.\\n\\nBilliards\\n\\n10\\n\\nBilliards\\n\\n\\n\\nIf an object ball is in baulk, no part of its surface can be played on directly from in-hand.\\n\\nDuring the play, a player goes through certain instances that have been clearly marked by the WPBSA to handle them better. Below are some those instances with next steps.\\n\\nSpotting Object Balls\\n\\nStarting with red ball, if it is pocketed then, it is placed back in its spot. In case the spot is occupied, red ball is placed in pyramid spot. If the pyramid spot is also occupied then, it is placed in the centre spot.\\n\\nA ball is considered to be on spot if and only if it is placed by hand.\\n\\nA striker can check with referee for count of continuous pots of same ball.\\n\\n\\n\\nIf a ball touches another ball on spot then, the ball is not considered to be on spot even though it hasn’t moved.\\n\\nAn object ball not spotted correctly by the player cannot be raised as a fault by referee in any case.\\n\\nLimitations of Cannons\\n\\nA maximum of 75 consecutive cannons are allowed for a striker. The referee has to call out for last five after the player reaches count of 70. In case the referee misses to make note then, the last five cannons will be counted from the moment the referee announces.\\n\\nAlternately, the player can also know the number of cannons upon request.\\n\\nLimitations to Hazards\\n\\nJust like limitations to consecutive cannons, a player can make only 15 consecutive hazards. The player and referee rule applies here also. In case the referee misses to announce for last five hazards, the player will get additional five chances from the moment referee announces. Similarly, player can also make request to know the count of continuous hazards.\\n\\nIf the non-striker’s ball is off the table in his last stroke of a turn, it will be placed on spot of baulk-line or right corner of D.\\n\\nBall on Edge of a Pocket\\n\\n\\n\\nIf a ball is pocketed without being hit or doesn’t touch a ball in the process is put back on the table while the striker gets score for the stroke played.\\n\\n\\n\\nIn case, the ball is hit by another one and is pocketed while there is no faulty stroke then, all the balls are replaced and either same stroke is played or different stroke upon discretion of the player.\\n\\n11\\n\\nBilliards\\n\\n\\n\\nIn case, it happens to be a foul then also all balls are placed back and the turn moves to next player.\\n\\n\\n\\nIf the ball balances on edge for a while and then falls off later, it is counted as pocketed and not replaced back on table.\\n\\nBall Moved by other than Striker\\n\\nA ball moved by Striker’s partner or any other person at the table is repositioned to most probable place that referee thinks. The same rule doesn’t apply if the ball has moved due to defective table surface.\\n\\nNo players are penalised when balls are disturbed by referee.\\n\\nTouching Ball\\n\\nIt is referee’s responsibility to shout for a touching ball. In such situation, red is placed on the sport and not-striker’s ball is placed in Centre spot.\\n\\nAnother instance is when a cue-ball is touching an object ball just before the striker is about to play his stroke, the referee can pause the game and adjust the ball for satisfaction.\\n\\nFouls\\n\\nGiven below are some of the fouls made by striker/partner/opponent player during course of the game.\\n\\nStriking a ball other than the cue-ball\\n\\nStriking the cue-ball more than once during a stroke\\n\\nStriking when any ball is not at rest\\n\\nStriking when both feet are off the floor\\n\\nPlaying out of turn\\n\\nPlaying improperly from in-hand, including the opening stroke\\n\\nPlaying the cue-ball directly into a pocket, or off a shoulder of the pocket\\n\\nWhen in-hand with no object ball out of baulk (running a coup)\\n\\nPlaying a jump shot\\n\\nMaking a push stroke\\n\\nCausing a ball to be forced off the table\\n\\nMaking more than fifteen consecutive hazards\\n\\n12\\n\\nMaking more than seventy-five consecutive cannons\\n\\nTouching a ball or ball marker in play\\n\\nStriking before the referee has completed the spotting of a ball\\n\\nPlaying with a non-standard cue\\n\\nUsing a ball off the table for any purpose\\n\\nUsing any object to measure gaps or distance\\n\\nOutcomes of a Foul\\n\\nThe referee calls a foul and the player in strike has to stop playing immediately. If the player continues to play even after the call then, the penalty is much higher.\\n\\nThe striker doesn’t get any points in a foul even though an object ball is potted in faulty stroke. The ball is placed back on the table in its original position.\\n\\nEvery foul carries a penalty of two points. Suppose the referee or opponent player doesn’t call for a foul then, it is forgiven.\\n\\nA miss is also a type of foul where the cue-ball is pocketed directly without touching any ball on table. It may hit cushion and go into pocket as well. Two points are added to opponent’s score and the next miss is called foul.\\n\\nBilliards – Variants\\n\\nApart from English Billiards, the other variants are Snooker, and Pool. After knowing and have played Billiards, Snooker could be easier to understand. In Pool, the balls have stripes and dots with numbers on it. These two sports will be discussed as separate tutorials.\\n\\nIn a doubles game, the order of play is decided by stringing and cannot be changed during course of the game. The partners can confer during course of the game though.\\n\\nBilliards\\n\\n13\\n\\nUse of Ancillary Equipment\\n\\nThe striker owns responsibility to all the rests and additional equipment owned and used during the game unless they are taken from the referee or lying at the table.\\n\\nThe player is not penalised for any fouls committed due to faulty ancillary equipment provided by the referee. In such cases, the stroke made is ruled out and all the equipment involved in faulty stroke are replaced immediately.\\n\\nBilliards\\n\\n14\\n\\n7. Billiards – Tournaments\\n\\nHistory of Billiards proves that it is a very old global sport. Countries like England, Singapore, India have produced some of the best players in the world. Here is a list of some important tournaments related to Billiards:\\n\\nTournament\\n\\nVenue\\n\\nAirpark Christchurch Open\\n\\nChristchurch, NZ\\n\\nOuter Limits Auckland Open\\n\\nAuckland, NZ\\n\\nHamilton Pacific International\\n\\nHamilton, NZ\\n\\nNew Zealand Open\\n\\nHamilton, NZ\\n\\nWorld Championship Qualifier\\n\\nNorthern SC, Leeds\\n\\nJim Williamson Memorial\\n\\nNorthern SC, Leeds\\n\\nLITEtask World Championship [Short]\\n\\nNorthern SC, Leeds\\n\\nLITEtask World Championship [Long]\\n\\nNorthern SC, Leeds\\n\\nLadies World Championship\\n\\nNorthern SC, Leeds\\n\\nLITEtask British Open\\n\\nCue Gardens, Bradford\\n\\nScottish Open\\n\\nEdinburgh Corn Ex.\\n\\nLITEtask UK Open\\n\\nNorthern SC, Leeds\\n\\nEnglish Open\\n\\nCambridge SC\\n\\nIrish Open\\n\\nIvy Rooms, Carlow\\n\\nEuropean Open\\n\\nIvy Rooms, Carlow\\n\\nAustralian Open\\n\\ntbc\\n\\nNSC Open\\n\\nNorthern SC, Leeds\\n\\nBilliards\\n\\n15\\n\\n8. Billiards – Champion of Champions\\n\\nDavid Causier, Mike Russell, Peter Gilchrist top the rank charts in English Billiards; David Causier leads the current pack of players. From India, Geet Sethi, Pankaj Advani, and Ashok Shandilya are few popular players. This chapter will cover career profile and achievements of few from this list.\\n\\nPeter Gilchrist (Singapore) – Peter Gilchrist, a Singaporean born in England, is a world class Billiards player with many world titles in his kitty. He has won the World Championship thrice – 1994, 2001, and 2013. He has also set the world record for highest break and the only player in Billiard’s history to have scored 1000 points more than one time. He represented Singapore in SEA Games and won Gold as well.\\n\\nMike Russell (England) – One of the legends of the game, born in 1969 in England and 11 time world champion. Adding to the tally is six amateur IBSF World Billiards Championship titles. He also created a record with more than 1000 points at IBSF Amateur World Billiards Championship in 2010. At present, he is a trainer at Qatar Billiards and Snooker Federation.\\n\\nGeet Sethi (India) – Geet Sethi can be easily called the face of English Billiards in India. Born in 1961, he started his career as amateur snooker player. Geet Sethi is a six time winner at professional level and three time winner of amateur World Championship. He was at his prime in 1990s and holds two world records in English Billiards. Later, he joined with Prakash Padukone (Indian Badminton ace player) to form Gold Quest to promote sports in India at national level.\\n\\nPankaj Advani (India) – Pankaj Advani is one of youngest and rising sportsperson of India. He debuted in 2002 at Asian Billiards Championship and went on to win 10 World Champion Billiard Titles. He is currently World no. 1 in 6-red snooker. He is also the youngest to have won eight or more titles in English Billiards. Pankaj Advani has taken World Billiards by a storm with more records; only player to have won all five regional and world titles in a single season.\\n\\nBilliards\\n\\n16'"
      ]
     },
     "execution_count": 4,
     "metadata": {},
     "output_type": "execute_result"
    }
   ],
   "source": [
    "data[0].page_content"
   ]
  },
  {
   "cell_type": "markdown",
   "metadata": {},
   "source": [
    "# Vector Embeddings"
   ]
  },
  {
   "cell_type": "code",
   "execution_count": 5,
   "metadata": {},
   "outputs": [],
   "source": [
    "# !ollama pull nomic-embed-text"
   ]
  },
  {
   "cell_type": "code",
   "execution_count": 6,
   "metadata": {},
   "outputs": [],
   "source": [
    "# !ollama list"
   ]
  },
  {
   "cell_type": "code",
   "execution_count": 7,
   "metadata": {},
   "outputs": [],
   "source": [
    "# !pip3 install chromadb\n",
    "# !pip3 install langchain-text-splitters"
   ]
  },
  {
   "cell_type": "code",
   "execution_count": 8,
   "metadata": {},
   "outputs": [],
   "source": [
    "from langchain_community.embeddings import OllamaEmbeddings\n",
    "from langchain_text_splitters import RecursiveCharacterTextSplitter\n",
    "from langchain_community.vectorstores import Chroma"
   ]
  },
  {
   "cell_type": "code",
   "execution_count": 9,
   "metadata": {},
   "outputs": [],
   "source": [
    "text_splitter = RecursiveCharacterTextSplitter(chunk_size=1000, chunk_overlap=100)\n",
    "chunks = text_splitter.split_documents(data)"
   ]
  },
  {
   "cell_type": "code",
   "execution_count": 10,
   "metadata": {},
   "outputs": [
    {
     "name": "stderr",
     "output_type": "stream",
     "text": [
      "OllamaEmbeddings: 100%|██████████| 30/30 [00:11<00:00,  2.59it/s]\n"
     ]
    }
   ],
   "source": [
    "#add vector to database\n",
    "\n",
    "vector_db = Chroma.from_documents(\n",
    "    documents=chunks,\n",
    "    embedding=OllamaEmbeddings(model=\"nomic-embed-text\",show_progress=True),\n",
    "    collection_name=\"local_rag\"\n",
    ")"
   ]
  },
  {
   "cell_type": "markdown",
   "metadata": {},
   "source": [
    "# Retrieval"
   ]
  },
  {
   "cell_type": "code",
   "execution_count": 11,
   "metadata": {},
   "outputs": [],
   "source": [
    "from langchain.prompts import ChatPromptTemplate, PromptTemplate\n",
    "from langchain_core.output_parsers import StrOutputParser\n",
    "from langchain_community.chat_models import ChatOllama\n",
    "from langchain_core.runnables import RunnablePassthrough\n",
    "from langchain.retrievers.multi_query import MultiQueryRetriever"
   ]
  },
  {
   "cell_type": "code",
   "execution_count": 12,
   "metadata": {},
   "outputs": [],
   "source": [
    "# !ollama pull mistral"
   ]
  },
  {
   "cell_type": "code",
   "execution_count": 13,
   "metadata": {},
   "outputs": [],
   "source": [
    "# LLM from Ollama\n",
    "local_model = \"mistral\"\n",
    "llm = ChatOllama(model=local_model)"
   ]
  },
  {
   "cell_type": "code",
   "execution_count": 14,
   "metadata": {},
   "outputs": [],
   "source": [
    "QUERY_PROMPT = PromptTemplate(\n",
    "    input_variables=[\"question\"],\n",
    "    template=\"\"\"You are an AI language model assistant. Your task is to generate five\n",
    "    different versions of the given user question to retrieve relevant documents from\n",
    "    a vector database. By generating multiple perspectives on the user question, your\n",
    "    goal is to help the user overcome some of the limitations of the distance-based\n",
    "    similarity search. Provide these alternative questions separated by newlines.\n",
    "    Original question: {question}\"\"\",\n",
    ")"
   ]
  },
  {
   "cell_type": "code",
   "execution_count": 15,
   "metadata": {},
   "outputs": [],
   "source": [
    "retriever = MultiQueryRetriever.from_llm(\n",
    "    vector_db.as_retriever(), \n",
    "    llm,\n",
    "    prompt=QUERY_PROMPT\n",
    ")\n",
    "\n",
    "# RAG prompt\n",
    "template = \"\"\"Answer the question based ONLY on the following context:\n",
    "{context}\n",
    "Question: {question}\n",
    "\"\"\"\n",
    "\n",
    "prompt = ChatPromptTemplate.from_template(template)"
   ]
  },
  {
   "cell_type": "code",
   "execution_count": 16,
   "metadata": {},
   "outputs": [],
   "source": [
    "chain = (\n",
    "    {\"context\": retriever, \"question\": RunnablePassthrough()}\n",
    "    | prompt\n",
    "    | llm\n",
    "    | StrOutputParser()\n",
    ")\n"
   ]
  },
  {
   "cell_type": "code",
   "execution_count": 17,
   "metadata": {},
   "outputs": [
    {
     "name": "stderr",
     "output_type": "stream",
     "text": [
      "OllamaEmbeddings: 100%|██████████| 1/1 [00:02<00:00,  2.23s/it]\n",
      "OllamaEmbeddings: 100%|██████████| 1/1 [00:00<00:00,  6.94it/s]\n",
      "OllamaEmbeddings: 100%|██████████| 1/1 [00:00<00:00, 10.29it/s]\n",
      "OllamaEmbeddings: 100%|██████████| 1/1 [00:00<00:00,  5.62it/s]\n",
      "OllamaEmbeddings: 100%|██████████| 1/1 [00:00<00:00, 10.19it/s]\n"
     ]
    },
    {
     "data": {
      "text/plain": [
       "' The given text appears to be a tutorial about the game of Billiards, specifically focusing on its rules, equipment, and terminologies used in the game.'"
      ]
     },
     "execution_count": 17,
     "metadata": {},
     "output_type": "execute_result"
    }
   ],
   "source": [
    "chain.invoke(\"what is it about?\")"
   ]
  },
  {
   "cell_type": "code",
   "execution_count": 18,
   "metadata": {},
   "outputs": [
    {
     "name": "stderr",
     "output_type": "stream",
     "text": [
      "OllamaEmbeddings: 100%|██████████| 1/1 [00:02<00:00,  2.34s/it]\n",
      "OllamaEmbeddings: 100%|██████████| 1/1 [00:00<00:00,  7.06it/s]\n",
      "OllamaEmbeddings: 100%|██████████| 1/1 [00:00<00:00, 10.96it/s]\n",
      "OllamaEmbeddings: 100%|██████████| 1/1 [00:00<00:00,  5.69it/s]\n",
      "OllamaEmbeddings: 100%|██████████| 1/1 [00:00<00:00, 10.50it/s]\n"
     ]
    },
    {
     "data": {
      "text/plain": [
       "' The Billiards board is designed to be riveted to a table. Unlike other board games, this is the only game where the board is part of the table. The Billiards board is larger than any other boards, with a playing surface that measures 11ft 8 ½ in x 5ft 10in x 2ft 10 ½ in. At a distance of 29in from the bottom cushion, a parallel line is drawn called baulk line. Another mandatory marking on the board is ‘D’, which is drawn with the mid-point of the baulk line as its center and has a radius of 1 ½ in. The playing surface of the board is top quality cloth material that helps the balls to roll easily around the board and pocket them. The Billiards board also has four pockets in the corner and two on the side bars, similar to Carom boards.'"
      ]
     },
     "execution_count": 18,
     "metadata": {},
     "output_type": "execute_result"
    }
   ],
   "source": [
    "chain.invoke(\"tell me about the billiards board design\")"
   ]
  },
  {
   "cell_type": "code",
   "execution_count": 19,
   "metadata": {},
   "outputs": [
    {
     "name": "stderr",
     "output_type": "stream",
     "text": [
      "OllamaEmbeddings: 100%|██████████| 1/1 [00:02<00:00,  2.26s/it]\n",
      "OllamaEmbeddings: 100%|██████████| 1/1 [00:00<00:00,  7.55it/s]\n",
      "OllamaEmbeddings: 100%|██████████| 1/1 [00:00<00:00, 11.31it/s]\n",
      "OllamaEmbeddings: 100%|██████████| 1/1 [00:00<00:00,  5.73it/s]\n",
      "OllamaEmbeddings: 100%|██████████| 1/1 [00:00<00:00, 11.00it/s]\n"
     ]
    },
    {
     "data": {
      "text/plain": [
       "'1. Game - It refers to the period of play from when the striker breaks the formation of balls and either finishes the game in concession or the total time of the game has elapsed.'"
      ]
     },
     "execution_count": 19,
     "metadata": {},
     "output_type": "execute_result"
    }
   ],
   "source": [
    "chain.invoke(\"tell me about the terms in billiards\")"
   ]
  },
  {
   "cell_type": "code",
   "execution_count": 20,
   "metadata": {},
   "outputs": [
    {
     "name": "stderr",
     "output_type": "stream",
     "text": [
      "OllamaEmbeddings: 100%|██████████| 1/1 [00:02<00:00,  2.39s/it]\n",
      "OllamaEmbeddings: 100%|██████████| 1/1 [00:00<00:00,  7.14it/s]\n",
      "OllamaEmbeddings: 100%|██████████| 1/1 [00:00<00:00, 10.59it/s]\n",
      "OllamaEmbeddings: 100%|██████████| 1/1 [00:00<00:00,  5.60it/s]\n",
      "OllamaEmbeddings: 100%|██████████| 1/1 [00:00<00:00, 10.86it/s]\n"
     ]
    },
    {
     "data": {
      "text/plain": [
       "' The game of Billiards starts with a method called stringing, which is similar to toss in any other match. Both players play the cue ball towards the opposite cushion and ensure it comes back to baulk cushion. Whosoever manages to keep the ball closer to the baulk cushion shall give options to opponents. The striker breaks the formation of balls and attempts to pocket as many balls as possible during their turn.'"
      ]
     },
     "execution_count": 20,
     "metadata": {},
     "output_type": "execute_result"
    }
   ],
   "source": [
    "chain.invoke(\"how to start the game of billiards?\")"
   ]
  }
 ],
 "metadata": {
  "kernelspec": {
   "display_name": "env",
   "language": "python",
   "name": "python3"
  },
  "language_info": {
   "codemirror_mode": {
    "name": "ipython",
    "version": 3
   },
   "file_extension": ".py",
   "mimetype": "text/x-python",
   "name": "python",
   "nbconvert_exporter": "python",
   "pygments_lexer": "ipython3",
   "version": "3.9.20"
  }
 },
 "nbformat": 4,
 "nbformat_minor": 2
}
